{
 "cells": [
  {
   "cell_type": "markdown",
   "id": "8e4d0e3c",
   "metadata": {},
   "source": [
    "# import libraries and data"
   ]
  },
  {
   "cell_type": "code",
   "execution_count": 1,
   "id": "e85d7f4d",
   "metadata": {},
   "outputs": [],
   "source": [
    "import pandas as pd\n",
    "import numpy as np"
   ]
  },
  {
   "cell_type": "code",
   "execution_count": 2,
   "id": "a02abc2a",
   "metadata": {},
   "outputs": [],
   "source": [
    "data = pd.read_csv('emails.csv')"
   ]
  },
  {
   "cell_type": "code",
   "execution_count": 3,
   "id": "b4521082",
   "metadata": {},
   "outputs": [
    {
     "data": {
      "text/plain": [
       "(5728, 2)"
      ]
     },
     "execution_count": 3,
     "metadata": {},
     "output_type": "execute_result"
    }
   ],
   "source": [
    "data.shape"
   ]
  },
  {
   "cell_type": "code",
   "execution_count": 4,
   "id": "5e06ab67",
   "metadata": {},
   "outputs": [
    {
     "data": {
      "text/plain": [
       "text    0\n",
       "spam    0\n",
       "dtype: int64"
      ]
     },
     "execution_count": 4,
     "metadata": {},
     "output_type": "execute_result"
    }
   ],
   "source": [
    "data.isnull().sum()"
   ]
  },
  {
   "cell_type": "code",
   "execution_count": 5,
   "id": "31263a60",
   "metadata": {},
   "outputs": [
    {
     "data": {
      "text/plain": [
       "33"
      ]
     },
     "execution_count": 5,
     "metadata": {},
     "output_type": "execute_result"
    }
   ],
   "source": [
    "data.duplicated().sum()"
   ]
  },
  {
   "cell_type": "code",
   "execution_count": 6,
   "id": "c8a31987",
   "metadata": {},
   "outputs": [],
   "source": [
    "data = data.drop_duplicates(keep='last')"
   ]
  },
  {
   "cell_type": "code",
   "execution_count": 7,
   "id": "56425dc9",
   "metadata": {},
   "outputs": [
    {
     "data": {
      "text/html": [
       "<div>\n",
       "<style scoped>\n",
       "    .dataframe tbody tr th:only-of-type {\n",
       "        vertical-align: middle;\n",
       "    }\n",
       "\n",
       "    .dataframe tbody tr th {\n",
       "        vertical-align: top;\n",
       "    }\n",
       "\n",
       "    .dataframe thead th {\n",
       "        text-align: right;\n",
       "    }\n",
       "</style>\n",
       "<table border=\"1\" class=\"dataframe\">\n",
       "  <thead>\n",
       "    <tr style=\"text-align: right;\">\n",
       "      <th></th>\n",
       "      <th>text</th>\n",
       "      <th>spam</th>\n",
       "    </tr>\n",
       "  </thead>\n",
       "  <tbody>\n",
       "    <tr>\n",
       "      <th>0</th>\n",
       "      <td>Subject: naturally irresistible your corporate...</td>\n",
       "      <td>1</td>\n",
       "    </tr>\n",
       "  </tbody>\n",
       "</table>\n",
       "</div>"
      ],
      "text/plain": [
       "                                                text  spam\n",
       "0  Subject: naturally irresistible your corporate...     1"
      ]
     },
     "execution_count": 7,
     "metadata": {},
     "output_type": "execute_result"
    }
   ],
   "source": [
    "data.head(1)"
   ]
  },
  {
   "cell_type": "code",
   "execution_count": 8,
   "id": "d9dc06af",
   "metadata": {},
   "outputs": [
    {
     "data": {
      "text/plain": [
       "spam\n",
       "0    4327\n",
       "1    1368\n",
       "Name: count, dtype: int64"
      ]
     },
     "execution_count": 8,
     "metadata": {},
     "output_type": "execute_result"
    }
   ],
   "source": [
    "data.spam.value_counts()"
   ]
  },
  {
   "cell_type": "markdown",
   "id": "11ad15af",
   "metadata": {},
   "source": [
    "# take the labels and the text "
   ]
  },
  {
   "cell_type": "code",
   "execution_count": 9,
   "id": "84a165cb",
   "metadata": {},
   "outputs": [],
   "source": [
    "x = data['text'].values\n",
    "y = data['spam'].values"
   ]
  },
  {
   "cell_type": "code",
   "execution_count": 10,
   "id": "c7eacd1d",
   "metadata": {},
   "outputs": [
    {
     "data": {
      "text/plain": [
       "array([\"Subject: naturally irresistible your corporate identity  lt is really hard to recollect a company : the  market is full of suqgestions and the information isoverwhelminq ; but a good  catchy logo , stylish statlonery and outstanding website  will make the task much easier .  we do not promise that havinq ordered a iogo your  company will automaticaily become a world ieader : it isguite ciear that  without good products , effective business organization and practicable aim it  will be hotat nowadays market ; but we do promise that your marketing efforts  will become much more effective . here is the list of clear  benefits : creativeness : hand - made , original logos , specially done  to reflect your distinctive company image . convenience : logo and stationery  are provided in all formats ; easy - to - use content management system letsyou  change your website content and even its structure . promptness : you  will see logo drafts within three business days . affordability : your  marketing break - through shouldn ' t make gaps in your budget . 100 % satisfaction  guaranteed : we provide unlimited amount of changes with no extra fees for you to  be surethat you will love the result of this collaboration . have a look at our  portfolio _ _ _ _ _ _ _ _ _ _ _ _ _ _ _ _ _ _ _ _ _ _ _ _ _ _ _ _ _ _ _ _ _ _ _ _ _ _ _ _ _ _ _ _ _ _ _ _ _ _ _ _ not interested . . . _ _ _ _ _ _ _ _ _ _ _ _ _ _ _ _ _ _ _ _ _ _ _ _ _ _ _ _ _ _ _ _ _ _ _ _ _ _ _ _ _ _ _ _ _ _ _ _ _ _ _ _\",\n",
       "       'Subject: the stock trading gunslinger  fanny is merrill but muzo not colza attainder and penultimate like esmark perspicuous ramble is segovia not group try slung kansas tanzania yes chameleon or continuant clothesman no  libretto is chesapeake but tight not waterway herald and hawthorn like chisel morristown superior is deoxyribonucleic not clockwork try hall incredible mcdougall yes hepburn or einsteinian earmark no  sapling is boar but duane not plain palfrey and inflexible like huzzah pepperoni bedtime is nameable not attire try edt chronography optima yes pirogue or diffusion albeit no ',\n",
       "       'Subject: unbelievable new homes made easy  im wanting to show you this  homeowner  you have been pre - approved for a $ 454 , 169 home loan at a 3 . 72 fixed rate .  this offer is being extended to you unconditionally and your credit is in no way a factor .  to take advantage of this limited time opportunity  all we ask is that you visit our website and complete  the 1 minute post approval form  look foward to hearing from you ,  dorcas pittman',\n",
       "       ...,\n",
       "       'Subject: re : enron case study update  wow ! all on the same day . that \\' s super . thank you so very much . vince  is coming up to baylor on monday of next week and we will hash out our  question list then .  thanks  john  at 04 : 54 pm 11 / 6 / 00 - 0600 , you wrote :  > good afternoon john ,  >  > i just want to drop you a line to update you re : andy fastow . i have  > confirmed a one hour interview slot with mr . fastow in monday , december 4 th  > from  > 11 : 00 a . m . - noon . this is in addition to your schedule interviews with  > mr . lay and mr . skilling - outline below .  >  > if you have any questions , please do not hesitate to contact me at  > 713 - 853 - 5670 .  >  > regards ,  >  > cindy  >  >  > - - - - - forwarded by cindy derecskey / corp / enron on 11 / 06 / 2000 04 : 49 pm - - - - -  >  > cindy  > derecskey to : \" john martin \"  > cc : vince j  kaminski / hou / ect @ ect , christie patrick / hou / ect @ ect  > 10 / 31 / 2000 subject : re : enron case  study ( document link : cindy derecskey )  > 01 : 44 pm  >  >  >  >  >  > good afternoon john ,  >  > i hope things are well with you . i am writing to update you on the status  > of your meetings with andy fastow , ken lay and jeff skilling . i have  > arranged the following meeting dates and times with ken lay and jeff  > skilling , ( i am still trying to work with andy fastow \\' s schedule ) :  >  > jeff skilling  > december 4 th  > 2 : 00 - 3 : 00 p . m .  >  > ken lay  > december 4 th  > 3 : 30 - 4 : 30 p . m .  >  > also , i will attempt to schedule the meeting with andy fastow for december  > 4 th for convenience - this will also allow us to possibly schedule  > additional meetings for the 5 th ( as needed ) . i will let you know as soon  > as i \\' m successful .  >  > regards ,  >  > cindy derecskey  > university affairs  > enron corp .  >  >  >  >  >  john d . martin  carr p . collins chair in finance  finance department  baylor university  po box 98004  waco , tx 76798  254 - 710 - 4473 ( office )  254 - 710 - 1092 ( fax )  j _ martin @ baylor . edu  web : http : / / hsb . baylor . edu / html / martinj / home . html',\n",
       "       'Subject: re : interest  david ,  please , call shirley crenshaw ( my assistant ) ,  extension 5 - 5290 to set it up .  vince  david p dupre  06 / 15 / 2000 05 : 18 pm  to : vince j kaminski / hou / ect @ ect  cc :  subject : re : interest  what time ( s ) are you available over the next few days ?  thanks  david  3 - 3528  vince j kaminski  06 / 15 / 2000 05 : 16 pm  to : david p dupre / hou / ect @ ect  cc : vince j kaminski / hou / ect @ ect  subject : re : interest  david ,  please , stop by to chat about it for a few minutes .  vince  david p dupre  06 / 15 / 2000 11 : 57 am  to : vince j kaminski / hou / ect @ ect  cc :  subject : re : interest  may we meet to discuss my interest in joining your group ?  i have a strong quantitative discipline and am highly numerate .  thanks  david 3 - 3528  - - - - - - - - - - - - - - - - - - - - - - forwarded by david p dupre / hou / ect on 06 / 15 / 2000 11 : 53  am - - - - - - - - - - - - - - - - - - - - - - - - - - -  to : david p dupre / hou / ect @ ect  cc :  subject : re : interest  vince kaminski',\n",
       "       'Subject: news : aurora 5 . 2 update  aurora version 5 . 2  - the fastest model just got faster -  epis announces the release of aurora , version 5 . 2  aurora the electric market price forecasting tool is already  legendary for power and speed . we \\' ve combined a powerful chronological  dispatch model with the capability to simulate the market from 1  day to 25 + years . add to that a risk analysis section , powered by user  selectable monte carlo & / or latin hypercube modeling , enough  portfolio analysis power to please the toughest critic , & inputs and  outputs from standard excel & access tables and you \\' ve got one of most  powerful tools in the market .  just a few months ago we expanded our emissions modeling  capabilities , added our quarterly database update , increased the speed  of the entire model , and made  but that wasn \\' t enough .  we \\' ve done it again . some of the operations that we \\' ve  included . . .  two new reporting enhancements .  the first is marginal reporting  for fuels , resources and groups of resources .  the second is the ability to  display resource stack information in graphical and dispatch order form .  other enhancements include dual fuel modeling , improved  transmission modeling , greater access to hourly results , and the ability  to model monthly emission rates . moreover , the databases for  central and eastern , texas , and western markets have been updated to use  the new modeling capabilities .  we continue to make aurora easier to use . this version enhances  user control over modeling , editing inputs , and viewing of aurora  output . clients desiring to exploit the power of aurora now have  greater control over the inputs and outputs through vb scripting in  aurora . the new \" update data \" capability provides a means to  universally change any data element .  attached is more information on the fastest and most flexible  tool of its kind .  for additional information , please visit our website ( www . epis . com ) or  contact our sales department at ( 503 ) 722 - 2023 . ask about our special  7 - day demo !  v . todd wheeler  sales manager  epis , inc .  ( 503 ) 722 - 2023 tel .  ( 503 ) 722 - 7130 fax  www . epis . com  todd @ epis . com  > >  - what \\' s new - version 5 . 2 information . doc  - technical information aurora v 5 - 2 . doc'],\n",
       "      dtype=object)"
      ]
     },
     "execution_count": 10,
     "metadata": {},
     "output_type": "execute_result"
    }
   ],
   "source": [
    "x"
   ]
  },
  {
   "cell_type": "markdown",
   "id": "daf8ac16",
   "metadata": {},
   "source": [
    "# remove stopwords from text"
   ]
  },
  {
   "cell_type": "code",
   "execution_count": 11,
   "id": "f51b3af1",
   "metadata": {},
   "outputs": [],
   "source": [
    "from nltk.corpus import stopwords"
   ]
  },
  {
   "cell_type": "code",
   "execution_count": 12,
   "id": "a36e4148",
   "metadata": {},
   "outputs": [],
   "source": [
    "stop  = stopwords.words(\"english\")"
   ]
  },
  {
   "cell_type": "code",
   "execution_count": 13,
   "id": "79f408eb",
   "metadata": {},
   "outputs": [],
   "source": [
    "def remove_stop(sent):\n",
    "    text = ' '.join([word for word in sent.split() if word not in stop])\n",
    "    return text\n",
    "        "
   ]
  },
  {
   "cell_type": "code",
   "execution_count": 14,
   "id": "63279ccb",
   "metadata": {},
   "outputs": [],
   "source": [
    "text = []\n",
    "for i in x:\n",
    "    new = remove_stop(i)\n",
    "    text.append(new)\n",
    "    "
   ]
  },
  {
   "cell_type": "code",
   "execution_count": 15,
   "id": "f8d4c58d",
   "metadata": {},
   "outputs": [],
   "source": [
    "x = np.array(text)"
   ]
  },
  {
   "cell_type": "markdown",
   "id": "c2d53536",
   "metadata": {},
   "source": [
    "# split in train and test"
   ]
  },
  {
   "cell_type": "code",
   "execution_count": 16,
   "id": "70955abd",
   "metadata": {},
   "outputs": [],
   "source": [
    "from sklearn.model_selection import train_test_split as tt\n",
    "x_train,x_test,y_train,y_test = tt(x,y,test_size=0.2)"
   ]
  },
  {
   "cell_type": "code",
   "execution_count": null,
   "id": "c63a8a1e",
   "metadata": {},
   "outputs": [],
   "source": []
  },
  {
   "cell_type": "code",
   "execution_count": null,
   "id": "ce7e8c3d",
   "metadata": {},
   "outputs": [],
   "source": []
  },
  {
   "cell_type": "markdown",
   "id": "b805f19e",
   "metadata": {},
   "source": [
    "# tensorflow approach "
   ]
  },
  {
   "cell_type": "code",
   "execution_count": null,
   "id": "d5dd06a8",
   "metadata": {},
   "outputs": [],
   "source": []
  },
  {
   "cell_type": "code",
   "execution_count": null,
   "id": "a09ad8b3",
   "metadata": {},
   "outputs": [],
   "source": []
  },
  {
   "cell_type": "code",
   "execution_count": null,
   "id": "6c162de6",
   "metadata": {},
   "outputs": [],
   "source": []
  },
  {
   "cell_type": "markdown",
   "id": "50c9388f",
   "metadata": {},
   "source": [
    "# Tokenize the words"
   ]
  },
  {
   "cell_type": "code",
   "execution_count": 17,
   "id": "74fc14a1",
   "metadata": {},
   "outputs": [
    {
     "name": "stdout",
     "output_type": "stream",
     "text": [
      "WARNING:tensorflow:From C:\\Users\\mplan\\anaconda3\\Lib\\site-packages\\keras\\src\\losses.py:2976: The name tf.losses.sparse_softmax_cross_entropy is deprecated. Please use tf.compat.v1.losses.sparse_softmax_cross_entropy instead.\n",
      "\n"
     ]
    }
   ],
   "source": [
    "from tensorflow.keras.preprocessing.text import Tokenizer\n",
    "from tensorflow.keras.preprocessing.sequence import pad_sequences"
   ]
  },
  {
   "cell_type": "code",
   "execution_count": 18,
   "id": "22e95e46",
   "metadata": {},
   "outputs": [],
   "source": [
    "token = Tokenizer(num_words=30000,oov_token = 'oov_tok')"
   ]
  },
  {
   "cell_type": "code",
   "execution_count": 19,
   "id": "b46c8ac9",
   "metadata": {},
   "outputs": [],
   "source": [
    "token.fit_on_texts(x_train)"
   ]
  },
  {
   "cell_type": "code",
   "execution_count": null,
   "id": "245166e1",
   "metadata": {},
   "outputs": [],
   "source": []
  },
  {
   "cell_type": "code",
   "execution_count": 20,
   "id": "58a235b7",
   "metadata": {},
   "outputs": [
    {
     "data": {
      "text/plain": [
       "33515"
      ]
     },
     "execution_count": 20,
     "metadata": {},
     "output_type": "execute_result"
    }
   ],
   "source": [
    "len(token.word_index)"
   ]
  },
  {
   "cell_type": "code",
   "execution_count": 21,
   "id": "fd381f4e",
   "metadata": {},
   "outputs": [
    {
     "data": {
      "text/plain": [
       "410"
      ]
     },
     "execution_count": 21,
     "metadata": {},
     "output_type": "execute_result"
    }
   ],
   "source": [
    "np.argmax(x_train)"
   ]
  },
  {
   "cell_type": "code",
   "execution_count": 22,
   "id": "275061d4",
   "metadata": {},
   "outputs": [],
   "source": [
    "size_ = len(x_train[4453])"
   ]
  },
  {
   "cell_type": "markdown",
   "id": "86682b77",
   "metadata": {},
   "source": [
    "# make sequences and pad them"
   ]
  },
  {
   "cell_type": "code",
   "execution_count": 23,
   "id": "e914c4b3",
   "metadata": {},
   "outputs": [],
   "source": [
    "train_sequences = token.texts_to_sequences(x_train)\n",
    "training_padded = pad_sequences(train_sequences, maxlen=size_, padding='post', truncating='post')"
   ]
  },
  {
   "cell_type": "code",
   "execution_count": null,
   "id": "26cb9931",
   "metadata": {},
   "outputs": [],
   "source": []
  },
  {
   "cell_type": "code",
   "execution_count": 24,
   "id": "b6cafd96",
   "metadata": {},
   "outputs": [],
   "source": [
    "test_sequences = token.texts_to_sequences(x_test)\n",
    "test_padded = pad_sequences(test_sequences, maxlen=size_, padding='post', truncating='post')"
   ]
  },
  {
   "cell_type": "code",
   "execution_count": null,
   "id": "fa5e07e2",
   "metadata": {},
   "outputs": [],
   "source": []
  },
  {
   "cell_type": "markdown",
   "id": "3d07f495",
   "metadata": {},
   "source": [
    "# create the input that the tensorflow expects"
   ]
  },
  {
   "cell_type": "code",
   "execution_count": 25,
   "id": "d5252c2a",
   "metadata": {},
   "outputs": [],
   "source": [
    "train_x = np.array(training_padded)\n",
    "train_y = np.array(y_train)\n",
    "\n",
    "\n",
    "test_x = np.array(test_padded)\n",
    "test_y = np.array(y_test)"
   ]
  },
  {
   "cell_type": "code",
   "execution_count": null,
   "id": "62bc7270",
   "metadata": {},
   "outputs": [],
   "source": []
  },
  {
   "cell_type": "code",
   "execution_count": null,
   "id": "26ab6ffb",
   "metadata": {},
   "outputs": [],
   "source": []
  },
  {
   "cell_type": "markdown",
   "id": "a2827c14",
   "metadata": {},
   "source": [
    "# create a callback for the best weights"
   ]
  },
  {
   "cell_type": "code",
   "execution_count": 27,
   "id": "13b661f3",
   "metadata": {},
   "outputs": [],
   "source": [
    "\n",
    "import tensorflow as tf\n",
    "\n",
    "cp_callback = tf.keras.callbacks.ModelCheckpoint(filepath='model_best.h5',\n",
    "                                                 save_weights_only=True,\n",
    "                                                 verbose=1)"
   ]
  },
  {
   "cell_type": "code",
   "execution_count": null,
   "id": "e11b6c6d",
   "metadata": {},
   "outputs": [],
   "source": []
  },
  {
   "cell_type": "markdown",
   "id": "d53752d5",
   "metadata": {},
   "source": [
    "# now lets make the model"
   ]
  },
  {
   "cell_type": "code",
   "execution_count": 28,
   "id": "026f3793",
   "metadata": {},
   "outputs": [],
   "source": [
    "\n",
    "\n",
    "from tensorflow.keras.models import Sequential\n",
    "\n",
    "from tensorflow.keras.layers import *"
   ]
  },
  {
   "cell_type": "code",
   "execution_count": null,
   "id": "27d0ef9f",
   "metadata": {},
   "outputs": [],
   "source": []
  },
  {
   "cell_type": "code",
   "execution_count": 29,
   "id": "da3f4577",
   "metadata": {},
   "outputs": [
    {
     "name": "stdout",
     "output_type": "stream",
     "text": [
      "WARNING:tensorflow:From C:\\Users\\mplan\\anaconda3\\Lib\\site-packages\\keras\\src\\backend.py:873: The name tf.get_default_graph is deprecated. Please use tf.compat.v1.get_default_graph instead.\n",
      "\n",
      "Model: \"sequential\"\n",
      "_________________________________________________________________\n",
      " Layer (type)                Output Shape              Param #   \n",
      "=================================================================\n",
      " embedding (Embedding)       (None, 768, 20)           600000    \n",
      "                                                                 \n",
      " global_average_pooling1d (  (None, 20)                0         \n",
      " GlobalAveragePooling1D)                                         \n",
      "                                                                 \n",
      " dense (Dense)               (None, 70)                1470      \n",
      "                                                                 \n",
      " batch_normalization (Batch  (None, 70)                280       \n",
      " Normalization)                                                  \n",
      "                                                                 \n",
      " dense_1 (Dense)             (None, 1)                 71        \n",
      "                                                                 \n",
      "=================================================================\n",
      "Total params: 601821 (2.30 MB)\n",
      "Trainable params: 601681 (2.30 MB)\n",
      "Non-trainable params: 140 (560.00 Byte)\n",
      "_________________________________________________________________\n"
     ]
    }
   ],
   "source": [
    "model = Sequential()\n",
    "\n",
    "model.add(Embedding(30000,output_dim=20,input_length=size_))\n",
    "model.add(GlobalAveragePooling1D())\n",
    "model.add(Dense(70,'relu',kernel_regularizer='l1'))\n",
    "model.add(BatchNormalization())\n",
    "model.add(Dense(1,'sigmoid',kernel_regularizer='l1'))\n",
    "\n",
    "model.summary()\n",
    "\n"
   ]
  },
  {
   "cell_type": "code",
   "execution_count": 30,
   "id": "f1422968",
   "metadata": {},
   "outputs": [
    {
     "name": "stdout",
     "output_type": "stream",
     "text": [
      "WARNING:tensorflow:From C:\\Users\\mplan\\anaconda3\\Lib\\site-packages\\keras\\src\\optimizers\\__init__.py:309: The name tf.train.Optimizer is deprecated. Please use tf.compat.v1.train.Optimizer instead.\n",
      "\n"
     ]
    }
   ],
   "source": [
    "model.compile(loss='binary_crossentropy',optimizer='adam',metrics=['accuracy'])"
   ]
  },
  {
   "cell_type": "code",
   "execution_count": 31,
   "id": "59eebe2d",
   "metadata": {},
   "outputs": [
    {
     "name": "stdout",
     "output_type": "stream",
     "text": [
      "Epoch 1/18\n",
      "WARNING:tensorflow:From C:\\Users\\mplan\\anaconda3\\Lib\\site-packages\\keras\\src\\utils\\tf_utils.py:492: The name tf.ragged.RaggedTensorValue is deprecated. Please use tf.compat.v1.ragged.RaggedTensorValue instead.\n",
      "\n",
      "WARNING:tensorflow:From C:\\Users\\mplan\\anaconda3\\Lib\\site-packages\\keras\\src\\engine\\base_layer_utils.py:384: The name tf.executing_eagerly_outside_functions is deprecated. Please use tf.compat.v1.executing_eagerly_outside_functions instead.\n",
      "\n",
      "139/143 [============================>.] - ETA: 0s - loss: 1.6518 - accuracy: 0.7579\n",
      "Epoch 1: saving model to model_best.h5\n",
      "143/143 [==============================] - 6s 19ms/step - loss: 1.6358 - accuracy: 0.7572 - val_loss: 1.0273 - val_accuracy: 0.7647\n",
      "Epoch 2/18\n",
      "139/143 [============================>.] - ETA: 0s - loss: 0.6010 - accuracy: 0.8914\n",
      "Epoch 2: saving model to model_best.h5\n",
      "143/143 [==============================] - 1s 10ms/step - loss: 0.5966 - accuracy: 0.8929 - val_loss: 0.6849 - val_accuracy: 0.7647\n",
      "Epoch 3/18\n",
      "138/143 [===========================>..] - ETA: 0s - loss: 0.3763 - accuracy: 0.9574\n",
      "Epoch 3: saving model to model_best.h5\n",
      "143/143 [==============================] - 2s 13ms/step - loss: 0.3758 - accuracy: 0.9565 - val_loss: 0.5572 - val_accuracy: 0.7867\n",
      "Epoch 4/18\n",
      "142/143 [============================>.] - ETA: 0s - loss: 0.3041 - accuracy: 0.9773\n",
      "Epoch 4: saving model to model_best.h5\n",
      "143/143 [==============================] - 2s 12ms/step - loss: 0.3042 - accuracy: 0.9774 - val_loss: 0.3718 - val_accuracy: 0.9280\n",
      "Epoch 5/18\n",
      "139/143 [============================>.] - ETA: 0s - loss: 0.2619 - accuracy: 0.9793\n",
      "Epoch 5: saving model to model_best.h5\n",
      "143/143 [==============================] - 2s 12ms/step - loss: 0.2624 - accuracy: 0.9787 - val_loss: 0.2733 - val_accuracy: 0.9939\n",
      "Epoch 6/18\n",
      "138/143 [===========================>..] - ETA: 0s - loss: 0.2328 - accuracy: 0.9860\n",
      "Epoch 6: saving model to model_best.h5\n",
      "143/143 [==============================] - 2s 11ms/step - loss: 0.2330 - accuracy: 0.9857 - val_loss: 0.2263 - val_accuracy: 0.9939\n",
      "Epoch 7/18\n",
      "143/143 [==============================] - ETA: 0s - loss: 0.2144 - accuracy: 0.9849\n",
      "Epoch 7: saving model to model_best.h5\n",
      "143/143 [==============================] - 2s 13ms/step - loss: 0.2144 - accuracy: 0.9849 - val_loss: 0.2057 - val_accuracy: 0.9947\n",
      "Epoch 8/18\n",
      "139/143 [============================>.] - ETA: 0s - loss: 0.1891 - accuracy: 0.9926\n",
      "Epoch 8: saving model to model_best.h5\n",
      "143/143 [==============================] - 1s 10ms/step - loss: 0.1886 - accuracy: 0.9928 - val_loss: 0.2585 - val_accuracy: 0.9342\n",
      "Epoch 9/18\n",
      "140/143 [============================>.] - ETA: 0s - loss: 0.1823 - accuracy: 0.9850\n",
      "Epoch 9: saving model to model_best.h5\n",
      "143/143 [==============================] - 2s 12ms/step - loss: 0.1826 - accuracy: 0.9846 - val_loss: 0.1720 - val_accuracy: 0.9895\n",
      "Epoch 10/18\n",
      "139/143 [============================>.] - ETA: 0s - loss: 0.1607 - accuracy: 0.9926\n",
      "Epoch 10: saving model to model_best.h5\n",
      "143/143 [==============================] - 2s 11ms/step - loss: 0.1603 - accuracy: 0.9928 - val_loss: 0.1640 - val_accuracy: 0.9930\n",
      "Epoch 11/18\n",
      "137/143 [===========================>..] - ETA: 0s - loss: 0.1525 - accuracy: 0.9911\n",
      "Epoch 11: saving model to model_best.h5\n",
      "143/143 [==============================] - 1s 10ms/step - loss: 0.1519 - accuracy: 0.9914 - val_loss: 0.1605 - val_accuracy: 0.9807\n",
      "Epoch 12/18\n",
      "138/143 [===========================>..] - ETA: 0s - loss: 0.1373 - accuracy: 0.9943\n",
      "Epoch 12: saving model to model_best.h5\n",
      "143/143 [==============================] - 2s 12ms/step - loss: 0.1378 - accuracy: 0.9943 - val_loss: 0.1436 - val_accuracy: 0.9956\n",
      "Epoch 13/18\n",
      "143/143 [==============================] - ETA: 0s - loss: 0.1298 - accuracy: 0.9945\n",
      "Epoch 13: saving model to model_best.h5\n",
      "143/143 [==============================] - 1s 10ms/step - loss: 0.1298 - accuracy: 0.9945 - val_loss: 0.1607 - val_accuracy: 0.9754\n",
      "Epoch 14/18\n",
      "143/143 [==============================] - ETA: 0s - loss: 0.1238 - accuracy: 0.9954\n",
      "Epoch 14: saving model to model_best.h5\n",
      "143/143 [==============================] - 2s 13ms/step - loss: 0.1238 - accuracy: 0.9954 - val_loss: 0.1560 - val_accuracy: 0.9754\n",
      "Epoch 15/18\n",
      "142/143 [============================>.] - ETA: 0s - loss: 0.1169 - accuracy: 0.9956\n",
      "Epoch 15: saving model to model_best.h5\n",
      "143/143 [==============================] - 2s 12ms/step - loss: 0.1168 - accuracy: 0.9956 - val_loss: 0.1231 - val_accuracy: 0.9939\n",
      "Epoch 16/18\n",
      "139/143 [============================>.] - ETA: 0s - loss: 0.1145 - accuracy: 0.9953\n",
      "Epoch 16: saving model to model_best.h5\n",
      "143/143 [==============================] - 2s 14ms/step - loss: 0.1143 - accuracy: 0.9952 - val_loss: 0.1269 - val_accuracy: 0.9877\n",
      "Epoch 17/18\n",
      "142/143 [============================>.] - ETA: 0s - loss: 0.1068 - accuracy: 0.9958\n",
      "Epoch 17: saving model to model_best.h5\n",
      "143/143 [==============================] - 2s 11ms/step - loss: 0.1067 - accuracy: 0.9958 - val_loss: 0.1149 - val_accuracy: 0.9921\n",
      "Epoch 18/18\n",
      "140/143 [============================>.] - ETA: 0s - loss: 0.1030 - accuracy: 0.9955\n",
      "Epoch 18: saving model to model_best.h5\n",
      "143/143 [==============================] - 2s 13ms/step - loss: 0.1029 - accuracy: 0.9956 - val_loss: 0.1126 - val_accuracy: 0.9965\n"
     ]
    }
   ],
   "source": [
    "hist = model.fit(train_x,train_y,epochs=18,validation_data=(test_x,test_y),callbacks=[cp_callback])"
   ]
  },
  {
   "cell_type": "code",
   "execution_count": null,
   "id": "3989c833",
   "metadata": {},
   "outputs": [],
   "source": []
  },
  {
   "cell_type": "code",
   "execution_count": 33,
   "id": "a0d5b639",
   "metadata": {},
   "outputs": [],
   "source": [
    "model.load_weights('model_best.h5')"
   ]
  },
  {
   "cell_type": "markdown",
   "id": "60be7c76",
   "metadata": {},
   "source": [
    "# plot history "
   ]
  },
  {
   "cell_type": "code",
   "execution_count": 34,
   "id": "4ea160f5",
   "metadata": {},
   "outputs": [
    {
     "data": {
      "text/plain": [
       "['loss', 'accuracy', 'val_loss', 'val_accuracy']"
      ]
     },
     "execution_count": 34,
     "metadata": {},
     "output_type": "execute_result"
    }
   ],
   "source": [
    "keys = list(hist.history.keys())\n",
    "keys"
   ]
  },
  {
   "cell_type": "code",
   "execution_count": 35,
   "id": "9a77d9f3",
   "metadata": {},
   "outputs": [
    {
     "data": {
      "image/png": "[encoded data removed]",
      "text/plain": [
       "<Figure size 500x500 with 1 Axes>"
      ]
     },
     "metadata": {},
     "output_type": "display_data"
    }
   ],
   "source": [
    "import matplotlib.pyplot as plt\n",
    "\n",
    "\n",
    "plt.figure(figsize=(5,5))\n",
    "plt.plot(hist.history[keys[0]],label='train_loss')\n",
    "plt.plot(hist.history[keys[2]],label='vall_loss')\n",
    "plt.legend()\n",
    "plt.title('loss plot')\n",
    "plt.show()"
   ]
  },
  {
   "cell_type": "code",
   "execution_count": 36,
   "id": "d21caede",
   "metadata": {},
   "outputs": [
    {
     "data": {
      "image/png": "[encoded data removed]",
      "text/plain": [
       "<Figure size 500x500 with 1 Axes>"
      ]
     },
     "metadata": {},
     "output_type": "display_data"
    }
   ],
   "source": [
    "plt.figure(figsize=(5,5))\n",
    "plt.plot(hist.history[keys[1]],label='train_accuracy')\n",
    "plt.plot(hist.history[keys[3]],label='vall_accuracy')\n",
    "plt.legend()\n",
    "plt.title('accuracy plot')\n",
    "plt.show()"
   ]
  },
  {
   "cell_type": "code",
   "execution_count": null,
   "id": "3580d34d",
   "metadata": {},
   "outputs": [],
   "source": []
  },
  {
   "cell_type": "code",
   "execution_count": null,
   "id": "4b173fa0",
   "metadata": {},
   "outputs": [],
   "source": []
  },
  {
   "cell_type": "code",
   "execution_count": null,
   "id": "d26a48e6",
   "metadata": {},
   "outputs": [],
   "source": []
  },
  {
   "cell_type": "code",
   "execution_count": null,
   "id": "99cfbbc8",
   "metadata": {},
   "outputs": [],
   "source": []
  },
  {
   "cell_type": "code",
   "execution_count": 37,
   "id": "5b649634",
   "metadata": {},
   "outputs": [
    {
     "name": "stdout",
     "output_type": "stream",
     "text": [
      "36/36 [==============================] - 0s 3ms/step\n"
     ]
    }
   ],
   "source": [
    "\n",
    "\n",
    "y_pred = model.predict(test_x)"
   ]
  },
  {
   "cell_type": "code",
   "execution_count": 38,
   "id": "2cd20e19",
   "metadata": {},
   "outputs": [],
   "source": [
    "y_pred = y_pred.flatten()"
   ]
  },
  {
   "cell_type": "code",
   "execution_count": 39,
   "id": "fda39007",
   "metadata": {},
   "outputs": [],
   "source": [
    "preds = []\n",
    "for i in y_pred:\n",
    "    if i > 0.5 :\n",
    "        preds.append(1)\n",
    "    else:\n",
    "        preds.append(0)"
   ]
  },
  {
   "cell_type": "code",
   "execution_count": 40,
   "id": "a06f7036",
   "metadata": {},
   "outputs": [
    {
     "name": "stdout",
     "output_type": "stream",
     "text": [
      "0.9964881474978051\n"
     ]
    }
   ],
   "source": [
    "from sklearn.metrics import accuracy_score,confusion_matrix as sm\n",
    "\n",
    "print(accuracy_score(preds,test_y))"
   ]
  },
  {
   "cell_type": "code",
   "execution_count": 41,
   "id": "2be5ce22",
   "metadata": {},
   "outputs": [
    {
     "data": {
      "text/plain": [
       "<Axes: >"
      ]
     },
     "execution_count": 41,
     "metadata": {},
     "output_type": "execute_result"
    },
    {
     "data": {
      "image/png": "[encoded data removed]",
      "text/plain": [
       "<Figure size 640x480 with 2 Axes>"
      ]
     },
     "metadata": {},
     "output_type": "display_data"
    }
   ],
   "source": [
    "import seaborn as sns\n",
    "\n",
    "sns.heatmap(sm(preds,test_y),annot=True,fmt='.0f')"
   ]
  },
  {
   "cell_type": "code",
   "execution_count": null,
   "id": "95ff344d",
   "metadata": {},
   "outputs": [],
   "source": []
  },
  {
   "cell_type": "code",
   "execution_count": null,
   "id": "24494d13",
   "metadata": {},
   "outputs": [],
   "source": []
  },
  {
   "cell_type": "code",
   "execution_count": null,
   "id": "3a310301",
   "metadata": {},
   "outputs": [],
   "source": []
  },
  {
   "cell_type": "markdown",
   "id": "0d7f4be5",
   "metadata": {},
   "source": [
    "# Naive Bayes classifier"
   ]
  },
  {
   "cell_type": "code",
   "execution_count": null,
   "id": "1310c211",
   "metadata": {},
   "outputs": [],
   "source": []
  },
  {
   "cell_type": "code",
   "execution_count": 42,
   "id": "f527b71b",
   "metadata": {},
   "outputs": [],
   "source": [
    "from sklearn.feature_extraction.text import TfidfVectorizer \n",
    "vect  = TfidfVectorizer()\n",
    "\n",
    "\n",
    "x_train_v=vect.fit_transform(x_train)\n",
    "x_test_v=vect.transform(x_test)"
   ]
  },
  {
   "cell_type": "code",
   "execution_count": 43,
   "id": "fc5ce439",
   "metadata": {},
   "outputs": [],
   "source": [
    "from sklearn.naive_bayes import GaussianNB\n",
    "Gnb=GaussianNB()"
   ]
  },
  {
   "cell_type": "code",
   "execution_count": 44,
   "id": "70696bc4",
   "metadata": {},
   "outputs": [
    {
     "data": {
      "text/html": [
       "<style>#sk-container-id-1 {color: black;}#sk-container-id-1 pre{padding: 0;}#sk-container-id-1 div.sk-toggleable {background-color: white;}#sk-container-id-1 label.sk-toggleable__label {cursor: pointer;display: block;width: 100%;margin-bottom: 0;padding: 0.3em;box-sizing: border-box;text-align: center;}#sk-container-id-1 label.sk-toggleable__label-arrow:before {content: \"▸\";float: left;margin-right: 0.25em;color: #696969;}#sk-container-id-1 label.sk-toggleable__label-arrow:hover:before {color: black;}#sk-container-id-1 div.sk-estimator:hover label.sk-toggleable__label-arrow:before {color: black;}#sk-container-id-1 div.sk-toggleable__content {max-height: 0;max-width: 0;overflow: hidden;text-align: left;background-color: #f0f8ff;}#sk-container-id-1 div.sk-toggleable__content pre {margin: 0.2em;color: black;border-radius: 0.25em;background-color: #f0f8ff;}#sk-container-id-1 input.sk-toggleable__control:checked~div.sk-toggleable__content {max-height: 200px;max-width: 100%;overflow: auto;}#sk-container-id-1 input.sk-toggleable__control:checked~label.sk-toggleable__label-arrow:before {content: \"▾\";}#sk-container-id-1 div.sk-estimator input.sk-toggleable__control:checked~label.sk-toggleable__label {background-color: #d4ebff;}#sk-container-id-1 div.sk-label input.sk-toggleable__control:checked~label.sk-toggleable__label {background-color: #d4ebff;}#sk-container-id-1 input.sk-hidden--visually {border: 0;clip: rect(1px 1px 1px 1px);clip: rect(1px, 1px, 1px, 1px);height: 1px;margin: -1px;overflow: hidden;padding: 0;position: absolute;width: 1px;}#sk-container-id-1 div.sk-estimator {font-family: monospace;background-color: #f0f8ff;border: 1px dotted black;border-radius: 0.25em;box-sizing: border-box;margin-bottom: 0.5em;}#sk-container-id-1 div.sk-estimator:hover {background-color: #d4ebff;}#sk-container-id-1 div.sk-parallel-item::after {content: \"\";width: 100%;border-bottom: 1px solid gray;flex-grow: 1;}#sk-container-id-1 div.sk-label:hover label.sk-toggleable__label {background-color: #d4ebff;}#sk-container-id-1 div.sk-serial::before {content: \"\";position: absolute;border-left: 1px solid gray;box-sizing: border-box;top: 0;bottom: 0;left: 50%;z-index: 0;}#sk-container-id-1 div.sk-serial {display: flex;flex-direction: column;align-items: center;background-color: white;padding-right: 0.2em;padding-left: 0.2em;position: relative;}#sk-container-id-1 div.sk-item {position: relative;z-index: 1;}#sk-container-id-1 div.sk-parallel {display: flex;align-items: stretch;justify-content: center;background-color: white;position: relative;}#sk-container-id-1 div.sk-item::before, #sk-container-id-1 div.sk-parallel-item::before {content: \"\";position: absolute;border-left: 1px solid gray;box-sizing: border-box;top: 0;bottom: 0;left: 50%;z-index: -1;}#sk-container-id-1 div.sk-parallel-item {display: flex;flex-direction: column;z-index: 1;position: relative;background-color: white;}#sk-container-id-1 div.sk-parallel-item:first-child::after {align-self: flex-end;width: 50%;}#sk-container-id-1 div.sk-parallel-item:last-child::after {align-self: flex-start;width: 50%;}#sk-container-id-1 div.sk-parallel-item:only-child::after {width: 0;}#sk-container-id-1 div.sk-dashed-wrapped {border: 1px dashed gray;margin: 0 0.4em 0.5em 0.4em;box-sizing: border-box;padding-bottom: 0.4em;background-color: white;}#sk-container-id-1 div.sk-label label {font-family: monospace;font-weight: bold;display: inline-block;line-height: 1.2em;}#sk-container-id-1 div.sk-label-container {text-align: center;}#sk-container-id-1 div.sk-container {/* jupyter's `normalize.less` sets `[hidden] { display: none; }` but bootstrap.min.css set `[hidden] { display: none !important; }` so we also need the `!important` here to be able to override the default hidden behavior on the sphinx rendered scikit-learn.org. See: https://github.com/scikit-learn/scikit-learn/issues/21755 */display: inline-block !important;position: relative;}#sk-container-id-1 div.sk-text-repr-fallback {display: none;}</style><div id=\"sk-container-id-1\" class=\"sk-top-container\"><div class=\"sk-text-repr-fallback\"><pre>GaussianNB()</pre><b>In a Jupyter environment, please rerun this cell to show the HTML representation or trust the notebook. <br />On GitHub, the HTML representation is unable to render, please try loading this page with nbviewer.org.</b></div><div class=\"sk-container\" hidden><div class=\"sk-item\"><div class=\"sk-estimator sk-toggleable\"><input class=\"sk-toggleable__control sk-hidden--visually\" id=\"sk-estimator-id-1\" type=\"checkbox\" checked><label for=\"sk-estimator-id-1\" class=\"sk-toggleable__label sk-toggleable__label-arrow\">GaussianNB</label><div class=\"sk-toggleable__content\"><pre>GaussianNB()</pre></div></div></div></div></div>"
      ],
      "text/plain": [
       "GaussianNB()"
      ]
     },
     "execution_count": 44,
     "metadata": {},
     "output_type": "execute_result"
    }
   ],
   "source": [
    "Gnb.fit(x_train_v.toarray(),y_train)"
   ]
  },
  {
   "cell_type": "code",
   "execution_count": 45,
   "id": "17220149",
   "metadata": {},
   "outputs": [],
   "source": [
    "y_pred = Gnb.predict(x_test_v.toarray())"
   ]
  },
  {
   "cell_type": "code",
   "execution_count": 46,
   "id": "30dcc69d",
   "metadata": {},
   "outputs": [],
   "source": [
    "preds = []\n",
    "for i in y_pred:\n",
    "    if i > 0.5 :\n",
    "        preds.append(1)\n",
    "    else:\n",
    "        preds.append(0)"
   ]
  },
  {
   "cell_type": "code",
   "execution_count": 47,
   "id": "595a4c07",
   "metadata": {},
   "outputs": [
    {
     "name": "stdout",
     "output_type": "stream",
     "text": [
      "0.9604916593503073\n"
     ]
    }
   ],
   "source": [
    "print(accuracy_score(preds,y_test))"
   ]
  },
  {
   "cell_type": "code",
   "execution_count": 48,
   "id": "00f42c0d",
   "metadata": {},
   "outputs": [
    {
     "data": {
      "text/plain": [
       "<Axes: >"
      ]
     },
     "execution_count": 48,
     "metadata": {},
     "output_type": "execute_result"
    },
    {
     "data": {
      "image/png": "[encoded data removed]",
      "text/plain": [
       "<Figure size 640x480 with 2 Axes>"
      ]
     },
     "metadata": {},
     "output_type": "display_data"
    }
   ],
   "source": [
    "\n",
    "sns.heatmap(sm(preds,y_test),annot=True,fmt='.0f')"
   ]
  },
  {
   "cell_type": "code",
   "execution_count": null,
   "id": "605e5303",
   "metadata": {},
   "outputs": [],
   "source": []
  },
  {
   "cell_type": "code",
   "execution_count": null,
   "id": "676b14dc",
   "metadata": {},
   "outputs": [],
   "source": []
  },
  {
   "cell_type": "markdown",
   "id": "1fd068f1",
   "metadata": {},
   "source": [
    "# tensorflow model works best so we will keep it : "
   ]
  },
  {
   "cell_type": "code",
   "execution_count": 49,
   "id": "d452587e",
   "metadata": {},
   "outputs": [
    {
     "name": "stdout",
     "output_type": "stream",
     "text": [
      "Saved model to disk\n"
     ]
    }
   ],
   "source": [
    "\n",
    "# serialize model to JSON\n",
    "model_json = model.to_json()\n",
    "with open(\"model.json\", \"w\") as json_file:\n",
    "    json_file.write(model_json)\n",
    "# serialize weights to HDF5\n",
    "model.save_weights(\"model.h5\")\n",
    "print(\"Saved model to disk\")"
   ]
  },
  {
   "cell_type": "code",
   "execution_count": null,
   "id": "d9667693",
   "metadata": {},
   "outputs": [],
   "source": []
  },
  {
   "cell_type": "markdown",
   "id": "812f34a2",
   "metadata": {},
   "source": [
    "# predidction in custom test : "
   ]
  },
  {
   "cell_type": "code",
   "execution_count": 61,
   "id": "7f495310",
   "metadata": {},
   "outputs": [],
   "source": [
    "mails = [\"\"\"\n",
    "Subject: Exclusive Limited-Time Offer Inside!\n",
    "\n",
    "Body:\n",
    "Unlock unbelievable savings now! Act fast to claim your free gift. Don't miss out on this incredible deal!\"\"\",\n",
    "\"\"\"Subject: Upcoming Team Building Event\n",
    "\n",
    "Body:\n",
    "Dear [Recipient],\n",
    "\n",
    "I hope this message finds you well. We're excited to announce an upcoming team-building event\n",
    "on [date] at [location]. Your participation will be highly valued. Looking forward to seeing you there!\"\"\"]"
   ]
  },
  {
   "cell_type": "code",
   "execution_count": 62,
   "id": "9686c8ae",
   "metadata": {},
   "outputs": [],
   "source": [
    "test = token.texts_to_sequences(mails)\n",
    "test = pad_sequences(test, maxlen=size_, padding='post', truncating='post')"
   ]
  },
  {
   "cell_type": "code",
   "execution_count": 63,
   "id": "501e0020",
   "metadata": {},
   "outputs": [],
   "source": [
    "test = np.array(test)"
   ]
  },
  {
   "cell_type": "code",
   "execution_count": 64,
   "id": "53d92c4a",
   "metadata": {},
   "outputs": [
    {
     "name": "stdout",
     "output_type": "stream",
     "text": [
      "1/1 [==============================] - 0s 47ms/step\n"
     ]
    }
   ],
   "source": [
    "mail_preds = model.predict(test)"
   ]
  },
  {
   "cell_type": "code",
   "execution_count": 65,
   "id": "a83385d0",
   "metadata": {},
   "outputs": [
    {
     "data": {
      "text/plain": [
       "array([[0.95730877],\n",
       "       [0.3150717 ]], dtype=float32)"
      ]
     },
     "execution_count": 65,
     "metadata": {},
     "output_type": "execute_result"
    }
   ],
   "source": [
    "mail_preds"
   ]
  },
  {
   "cell_type": "markdown",
   "id": "56a4c144",
   "metadata": {},
   "source": [
    "### model predicted perfectly "
   ]
  },
  {
   "cell_type": "code",
   "execution_count": null,
   "id": "569a9bda",
   "metadata": {},
   "outputs": [],
   "source": []
  }
 ],
 "metadata": {
  "kernelspec": {
   "display_name": "Python 3 (ipykernel)",
   "language": "python",
   "name": "python3"
  },
  "language_info": {
   "codemirror_mode": {
    "name": "ipython",
    "version": 3
   },
   "file_extension": ".py",
   "mimetype": "text/x-python",
   "name": "python",
   "nbconvert_exporter": "python",
   "pygments_lexer": "ipython3",
   "version": "3.11.5"
  }
 },
 "nbformat": 4,
 "nbformat_minor": 5
}
